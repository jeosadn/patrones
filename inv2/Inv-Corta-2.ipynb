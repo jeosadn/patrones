{
 "cells": [
  {
   "cell_type": "markdown",
   "metadata": {},
   "source": [
    "# Supervised learning\n",
    "\n",
    "For this investigation I selected a database from the NASA Kepler space telescope, representing the change in light intensity of several observed stars. The label corresponds to whether a star has an orbiting exoplanet, while the features are the light intensity in different points in time."
   ]
  },
  {
   "cell_type": "markdown",
   "metadata": {},
   "source": [
    "## Importing and requirements\n",
    "\n",
    "First, we will import our main libraries. The dataset is already split in training and test portions, so the train_test_split method is not necessary. The data is quite large, so it's being uncompressed before processing."
   ]
  },
  {
   "cell_type": "code",
   "execution_count": 66,
   "metadata": {},
   "outputs": [
    {
     "data": {
      "text/plain": [
       "0"
      ]
     },
     "execution_count": 66,
     "metadata": {},
     "output_type": "execute_result"
    }
   ],
   "source": [
    "import pandas as pd\n",
    "import numpy as np\n",
    "from subprocess import call\n",
    "\n",
    "call(['tar', 'xf', 'kepler-labelled-time-series-data.tar.gz'])\n",
    "with open('./kepler-labelled-time-series-data/exoTrain.csv', 'r') as file_handle:\n",
    "    df_train = pd.read_csv(file_handle)\n",
    "    \n",
    "with open('./kepler-labelled-time-series-data/exoTest.csv', 'r') as file_handle:\n",
    "    df_test = pd.read_csv(file_handle)\n",
    "    \n",
    "call(['rm', '-rf', 'kepler-labelled-time-series-data/'])"
   ]
  },
  {
   "cell_type": "code",
   "execution_count": 84,
   "metadata": {},
   "outputs": [
    {
     "name": "stdout",
     "output_type": "stream",
     "text": [
      "37\n",
      "370\n"
     ]
    },
    {
     "ename": "TypeError",
     "evalue": "'tuple' object is not callable",
     "output_type": "error",
     "traceback": [
      "\u001b[0;31m---------------------------------------------------------------------------\u001b[0m",
      "\u001b[0;31mTypeError\u001b[0m                                 Traceback (most recent call last)",
      "\u001b[0;32m<ipython-input-84-5a83bf820ff9>\u001b[0m in \u001b[0;36m<module>\u001b[0;34m\u001b[0m\n\u001b[1;32m      9\u001b[0m \u001b[0mdata\u001b[0m \u001b[0;34m=\u001b[0m \u001b[0;34m[\u001b[0m\u001b[0;34m(\u001b[0m\u001b[0;34m'p1'\u001b[0m\u001b[0;34m,\u001b[0m \u001b[0;34m't1'\u001b[0m\u001b[0;34m)\u001b[0m\u001b[0;34m,\u001b[0m \u001b[0;34m(\u001b[0m\u001b[0;34m'p2'\u001b[0m\u001b[0;34m,\u001b[0m \u001b[0;34m't2'\u001b[0m\u001b[0;34m)\u001b[0m\u001b[0;34m,\u001b[0m \u001b[0;34m(\u001b[0m\u001b[0;34m'p2'\u001b[0m\u001b[0;34m,\u001b[0m \u001b[0;34m't2'\u001b[0m\u001b[0;34m)\u001b[0m\u001b[0;34m,\u001b[0m \u001b[0;34m(\u001b[0m\u001b[0;34m'p2'\u001b[0m\u001b[0;34m,\u001b[0m \u001b[0;34m't2'\u001b[0m\u001b[0;34m)\u001b[0m\u001b[0;34m,\u001b[0m \u001b[0;34m(\u001b[0m\u001b[0;34m'p2'\u001b[0m\u001b[0;34m,\u001b[0m \u001b[0;34m't2'\u001b[0m\u001b[0;34m)\u001b[0m\u001b[0;34m]\u001b[0m\u001b[0;34m\u001b[0m\u001b[0;34m\u001b[0m\u001b[0m\n\u001b[1;32m     10\u001b[0m \u001b[0mdf\u001b[0m \u001b[0;34m=\u001b[0m \u001b[0mpd\u001b[0m\u001b[0;34m.\u001b[0m\u001b[0mDataFrame\u001b[0m\u001b[0;34m(\u001b[0m\u001b[0mdata\u001b[0m\u001b[0;34m)\u001b[0m\u001b[0;34m\u001b[0m\u001b[0;34m\u001b[0m\u001b[0m\n\u001b[0;32m---> 11\u001b[0;31m \u001b[0mdf\u001b[0m\u001b[0;34m.\u001b[0m\u001b[0mshape\u001b[0m\u001b[0;34m(\u001b[0m\u001b[0;34m)\u001b[0m\u001b[0;34m\u001b[0m\u001b[0;34m\u001b[0m\u001b[0m\n\u001b[0m",
      "\u001b[0;31mTypeError\u001b[0m: 'tuple' object is not callable"
     ]
    }
   ],
   "source": [
    "exoplanets = df_train.loc[df_train['LABEL'] == 2]\n",
    "noexoplanets = df_train.loc[df_train['LABEL'] == 1].sample(n=len(exoplanets)*10)\n",
    "print(len(exoplanets))\n",
    "print(len(noexoplanets))\n",
    "\n",
    "#newdf = pd.DataFrame(exoplanets)\n",
    "#newdf.shape()\n",
    "newdf = pd.DataFrame(['a', '1'])\n",
    "data = [('p1', 't1'), ('p2', 't2'), ('p2', 't2'), ('p2', 't2'), ('p2', 't2')]\n",
    "df = pd.DataFrame(data)"
   ]
  },
  {
   "cell_type": "code",
   "execution_count": 21,
   "metadata": {},
   "outputs": [
    {
     "name": "stdout",
     "output_type": "stream",
     "text": [
      "(5087, 3198)\n",
      "(570, 3198)\n",
      "[]\n",
      "[]\n",
      "-2385019.12\n",
      "4299288.0\n",
      "             LABEL        FLUX.1        FLUX.2        FLUX.3        FLUX.4  \\\n",
      "count  5087.000000  5.087000e+03  5.087000e+03  5.087000e+03  5.087000e+03   \n",
      "mean      1.007273  1.445054e+02  1.285778e+02  1.471348e+02  1.561512e+02   \n",
      "std       0.084982  2.150669e+04  2.179717e+04  2.191309e+04  2.223366e+04   \n",
      "min       1.000000 -2.278563e+05 -3.154408e+05 -2.840018e+05 -2.340069e+05   \n",
      "25%       1.000000 -4.234000e+01 -3.952000e+01 -3.850500e+01 -3.505000e+01   \n",
      "50%       1.000000 -7.100000e-01 -8.900000e-01 -7.400000e-01 -4.000000e-01   \n",
      "75%       1.000000  4.825500e+01  4.428500e+01  4.232500e+01  3.976500e+01   \n",
      "max       2.000000  1.439240e+06  1.453319e+06  1.468429e+06  1.495750e+06   \n",
      "\n",
      "             FLUX.5        FLUX.6        FLUX.7        FLUX.8        FLUX.9  \\\n",
      "count  5.087000e+03  5.087000e+03  5.087000e+03  5.087000e+03  5.087000e+03   \n",
      "mean   1.561477e+02  1.469646e+02  1.168380e+02  1.144983e+02  1.228639e+02   \n",
      "std    2.308448e+04  2.410567e+04  2.414109e+04  2.290691e+04  2.102681e+04   \n",
      "min   -4.231956e+05 -5.975521e+05 -6.724046e+05 -5.790136e+05 -3.973882e+05   \n",
      "25%   -3.195500e+01 -3.338000e+01 -2.813000e+01 -2.784000e+01 -2.683500e+01   \n",
      "50%   -6.100000e-01 -1.030000e+00 -8.700000e-01 -6.600000e-01 -5.600000e-01   \n",
      "75%    3.975000e+01  3.514000e+01  3.406000e+01  3.170000e+01  3.045500e+01   \n",
      "max    1.510937e+06  1.508152e+06  1.465743e+06  1.416827e+06  1.342888e+06   \n",
      "\n",
      "       ...     FLUX.3188     FLUX.3189     FLUX.3190     FLUX.3191  \\\n",
      "count  ...  5.087000e+03  5.087000e+03  5.087000e+03  5.087000e+03   \n",
      "mean   ...  3.485578e+02  4.956476e+02  6.711211e+02  7.468790e+02   \n",
      "std    ...  2.864786e+04  3.551876e+04  4.349963e+04  4.981375e+04   \n",
      "min    ... -3.240480e+05 -3.045540e+05 -2.933140e+05 -2.838420e+05   \n",
      "25%    ... -1.760000e+01 -1.948500e+01 -1.757000e+01 -2.076000e+01   \n",
      "50%    ...  2.600000e+00  2.680000e+00  3.050000e+00  3.590000e+00   \n",
      "75%    ...  2.211000e+01  2.235000e+01  2.639500e+01  2.909000e+01   \n",
      "max    ...  1.779338e+06  2.379227e+06  2.992070e+06  3.434973e+06   \n",
      "\n",
      "          FLUX.3192     FLUX.3193      FLUX.3194      FLUX.3195  \\\n",
      "count  5.087000e+03  5.087000e+03    5087.000000    5087.000000   \n",
      "mean   6.937372e+02  6.553031e+02    -494.784966    -544.594264   \n",
      "std    5.087103e+04  5.339979e+04   17844.469520   17722.339334   \n",
      "min   -3.288214e+05 -5.028894e+05 -775322.000000 -732006.000000   \n",
      "25%   -2.226000e+01 -2.440500e+01     -26.760000     -24.065000   \n",
      "50%    3.230000e+00  3.500000e+00      -0.680000       0.360000   \n",
      "75%    2.780000e+01  3.085500e+01      18.175000      18.770000   \n",
      "max    3.481220e+06  3.616292e+06  288607.500000  215972.000000   \n",
      "\n",
      "           FLUX.3196      FLUX.3197  \n",
      "count    5087.000000    5087.000000  \n",
      "mean     -440.239100    -300.536399  \n",
      "std     16273.406292   14459.795577  \n",
      "min   -700992.000000 -643170.000000  \n",
      "25%       -21.135000     -19.820000  \n",
      "50%         0.900000       1.430000  \n",
      "75%        19.465000      20.280000  \n",
      "max    207590.000000  211302.000000  \n",
      "\n",
      "[8 rows x 3198 columns]\n",
      "            LABEL         FLUX.1         FLUX.2         FLUX.3         FLUX.4  \\\n",
      "count  570.000000     570.000000     570.000000     570.000000     570.000000   \n",
      "mean     1.008772     515.411351     738.046404     532.603246     739.618088   \n",
      "std      0.093329   12592.950138   12622.940170   12545.065255   12591.933126   \n",
      "min      1.000000  -59421.000000  -14663.430000  -56580.000000  -10817.590000   \n",
      "25%      1.000000     -22.230000     -22.912500     -22.985000     -18.662500   \n",
      "50%      1.000000       1.195000       0.410000      -1.125000      -0.880000   \n",
      "75%      1.000000      98.317500      89.710000      89.827500      73.257500   \n",
      "max      2.000000  290882.500000  290653.500000  290554.000000  290486.500000   \n",
      "\n",
      "              FLUX.5         FLUX.6         FLUX.7         FLUX.8  \\\n",
      "count     570.000000     570.000000     570.000000     570.000000   \n",
      "mean      530.949807     729.591491     517.421404     720.723544   \n",
      "std     12512.976544   12572.187328   12454.094432   12525.496793   \n",
      "min    -54545.000000   -7744.500000  -53580.000000   -6373.400000   \n",
      "25%       -20.980000     -21.245000     -22.675000     -22.200000   \n",
      "50%        -1.495000      -2.650000      -4.330000      -3.910000   \n",
      "75%        66.947500      45.147500      38.850000      37.150000   \n",
      "max    290289.000000  289982.500000  289197.500000  288520.500000   \n",
      "\n",
      "              FLUX.9  ...      FLUX.3188      FLUX.3189      FLUX.3190  \\\n",
      "count     570.000000  ...     570.000000     570.000000     570.000000   \n",
      "mean      481.015211  ...      60.027754     307.682825      88.976842   \n",
      "std     12397.610716  ...    9528.594808    9588.586341    9497.373179   \n",
      "min    -53832.000000  ...  -89126.500000  -89432.070000  -89759.940000   \n",
      "25%       -22.685000  ...      -9.602500     -12.842500     -15.222500   \n",
      "50%        -3.890000  ...       3.585000       3.795000       4.785000   \n",
      "75%        30.670000  ...      23.445000      20.472500      25.582500   \n",
      "max    287404.500000  ...  198420.000000  197888.500000  199639.000000   \n",
      "\n",
      "           FLUX.3191      FLUX.3192      FLUX.3193      FLUX.3194  \\\n",
      "count     570.000000     570.000000     570.000000     570.000000   \n",
      "mean      301.299895     105.121684     291.509561     256.656789   \n",
      "std      9611.024800    9611.076529    9654.581767    9362.719825   \n",
      "min    -90182.630000  -90225.760000  -90595.000000  -86719.070000   \n",
      "25%       -14.350000     -17.370000     -18.272500     -24.000000   \n",
      "50%         3.910000       5.575000       7.150000      -4.385000   \n",
      "75%        28.767500      27.455000      35.810000      17.755000   \n",
      "max    202007.000000  203730.500000  205924.000000  203193.000000   \n",
      "\n",
      "           FLUX.3195      FLUX.3196      FLUX.3197  \n",
      "count     570.000000     570.000000     570.000000  \n",
      "mean      121.810035     224.806035     133.954544  \n",
      "std      9487.642217    9483.948248    9700.731923  \n",
      "min    -86911.500000  -87123.260000  -87476.940000  \n",
      "25%       -27.360000     -36.855000     -29.475000  \n",
      "50%        -4.995000      -5.135000      -3.785000  \n",
      "75%        11.745000      12.265000      13.205000  \n",
      "max    205050.000000  206884.500000  211488.500000  \n",
      "\n",
      "[8 rows x 3198 columns]\n"
     ]
    }
   ],
   "source": [
    "print(df_train.shape)\n",
    "print(df_test.shape)\n",
    "print(df_train.columns[df_train.isna().any()].tolist())\n",
    "print(df_test.columns[df_train.isna().any()].tolist())\n",
    "\n",
    "df_train_described =  df_train.describe()\n",
    "print(df_train_described.loc['min',:].min())\n",
    "print(df_train_described.loc['max',:].max())\n",
    "print(df_train_described)\n",
    "print(df_test.describe())"
   ]
  },
  {
   "cell_type": "markdown",
   "metadata": {},
   "source": [
    "We can see the we have the data for 5087 different stars, each with 3198 different light intensity measurements.\n",
    "\n",
    "No NaN values at all.\n",
    "\n",
    "Flux values can range from -2e6 to 4e6.\n",
    "\n",
    "Now we can begin trying out different learning methods."
   ]
  },
  {
   "cell_type": "markdown",
   "metadata": {},
   "source": [
    "## Decision tree classifier\n"
   ]
  },
  {
   "cell_type": "code",
   "execution_count": 18,
   "metadata": {},
   "outputs": [
    {
     "data": {
      "text/plain": [
       "DecisionTreeClassifier(class_weight=None, criterion='gini', max_depth=3,\n",
       "                       max_features=None, max_leaf_nodes=None,\n",
       "                       min_impurity_decrease=0.0, min_impurity_split=None,\n",
       "                       min_samples_leaf=1, min_samples_split=2,\n",
       "                       min_weight_fraction_leaf=0.0, presort=False,\n",
       "                       random_state=None, splitter='best')"
      ]
     },
     "execution_count": 18,
     "metadata": {},
     "output_type": "execute_result"
    }
   ],
   "source": [
    "from sklearn.tree import DecisionTreeClassifier\n",
    "\n",
    "dtc_x_train = df_train.loc[:, df_train.columns != 'LABEL'].copy()\n",
    "dtc_y_train = df_train.loc[:, 'LABEL']\n",
    "\n",
    "dtc = DecisionTreeClassifier(max_depth = 3)\n",
    "dtc.fit(dtc_x_train, dtc_y_train)"
   ]
  },
  {
   "cell_type": "code",
   "execution_count": 20,
   "metadata": {},
   "outputs": [
    {
     "data": {
      "text/plain": [
       "0.9912280701754386"
      ]
     },
     "execution_count": 20,
     "metadata": {},
     "output_type": "execute_result"
    }
   ],
   "source": [
    "from sklearn.metrics import accuracy_score\n",
    "\n",
    "dtc_x_test = df_test.loc[:, df_test.columns != 'LABEL']\n",
    "dtc_y_test = df_test.loc[:, 'LABEL']\n",
    "\n",
    "dtc_y_pred = dtc.predict(dtc_x_test)\n",
    "accuracy_score(dtc_y_test, dtc_y_pred)"
   ]
  },
  {
   "cell_type": "code",
   "execution_count": null,
   "metadata": {},
   "outputs": [],
   "source": []
  }
 ],
 "metadata": {
  "kernelspec": {
   "display_name": "Python 3",
   "language": "python",
   "name": "python3"
  },
  "language_info": {
   "codemirror_mode": {
    "name": "ipython",
    "version": 3
   },
   "file_extension": ".py",
   "mimetype": "text/x-python",
   "name": "python",
   "nbconvert_exporter": "python",
   "pygments_lexer": "ipython3",
   "version": "3.7.3"
  }
 },
 "nbformat": 4,
 "nbformat_minor": 2
}
